{
 "cells": [
  {
   "cell_type": "code",
   "execution_count": 7,
   "metadata": {},
   "outputs": [],
   "source": [
    "import pandas as pd\n"
   ]
  },
  {
   "cell_type": "code",
   "execution_count": 104,
   "metadata": {},
   "outputs": [],
   "source": [
    "df_union = pd.read_parquet('Archivos/df_union.parquet', engine='fastparquet')"
   ]
  },
  {
   "cell_type": "code",
   "execution_count": 121,
   "metadata": {},
   "outputs": [
    {
     "name": "stdout",
     "output_type": "stream",
     "text": [
      "<class 'pandas.core.frame.DataFrame'>\n",
      "RangeIndex: 45451 entries, 0 to 45450\n",
      "Data columns (total 21 columns):\n",
      " #   Column         Non-Null Count  Dtype         \n",
      "---  ------         --------------  -----         \n",
      " 0   cas_actor1     43097 non-null  object        \n",
      " 1   cas_actor2     41768 non-null  object        \n",
      " 2   cas_actor3     40858 non-null  object        \n",
      " 3   cas_actor4     39726 non-null  object        \n",
      " 4   cas_actor5     37248 non-null  object        \n",
      " 5   cas_actor6     34564 non-null  object        \n",
      " 6   cas_actor7     31872 non-null  object        \n",
      " 7   cas_actor8     29113 non-null  object        \n",
      " 8   cas_actor9     26343 non-null  object        \n",
      " 9   cas_actor10    23749 non-null  object        \n",
      " 10  crew_Director  44616 non-null  object        \n",
      " 11  id             45451 non-null  int64         \n",
      " 12  budget         45451 non-null  int32         \n",
      " 13  popularity     45451 non-null  float64       \n",
      " 14  release_date   45451 non-null  datetime64[ns]\n",
      " 15  revenue        45451 non-null  int32         \n",
      " 16  title          45451 non-null  object        \n",
      " 17  vote_average   45451 non-null  float64       \n",
      " 18  vote_count     45451 non-null  float64       \n",
      " 19  release_year   45451 non-null  int32         \n",
      " 20  return         45451 non-null  float64       \n",
      "dtypes: datetime64[ns](1), float64(4), int32(3), int64(1), object(12)\n",
      "memory usage: 6.8+ MB\n"
     ]
    }
   ],
   "source": [
    "df_union.info()"
   ]
  },
  {
   "cell_type": "code",
   "execution_count": 136,
   "metadata": {},
   "outputs": [
    {
     "data": {
      "text/html": [
       "<div>\n",
       "<style scoped>\n",
       "    .dataframe tbody tr th:only-of-type {\n",
       "        vertical-align: middle;\n",
       "    }\n",
       "\n",
       "    .dataframe tbody tr th {\n",
       "        vertical-align: top;\n",
       "    }\n",
       "\n",
       "    .dataframe thead th {\n",
       "        text-align: right;\n",
       "    }\n",
       "</style>\n",
       "<table border=\"1\" class=\"dataframe\">\n",
       "  <thead>\n",
       "    <tr style=\"text-align: right;\">\n",
       "      <th></th>\n",
       "      <th>cas_actor1</th>\n",
       "      <th>cas_actor2</th>\n",
       "      <th>cas_actor3</th>\n",
       "      <th>cas_actor4</th>\n",
       "      <th>cas_actor5</th>\n",
       "      <th>cas_actor6</th>\n",
       "      <th>cas_actor7</th>\n",
       "      <th>cas_actor8</th>\n",
       "      <th>cas_actor9</th>\n",
       "      <th>cas_actor10</th>\n",
       "      <th>...</th>\n",
       "      <th>id</th>\n",
       "      <th>budget</th>\n",
       "      <th>popularity</th>\n",
       "      <th>release_date</th>\n",
       "      <th>revenue</th>\n",
       "      <th>title</th>\n",
       "      <th>vote_average</th>\n",
       "      <th>vote_count</th>\n",
       "      <th>release_year</th>\n",
       "      <th>return</th>\n",
       "    </tr>\n",
       "  </thead>\n",
       "  <tbody>\n",
       "    <tr>\n",
       "      <th>0</th>\n",
       "      <td>Tom Hanks</td>\n",
       "      <td>Tim Allen</td>\n",
       "      <td>Don Rickles</td>\n",
       "      <td>Jim Varney</td>\n",
       "      <td>Wallace Shawn</td>\n",
       "      <td>John Ratzenberger</td>\n",
       "      <td>Annie Potts</td>\n",
       "      <td>John Morris</td>\n",
       "      <td>Erik von Detten</td>\n",
       "      <td>Laurie Metcalf</td>\n",
       "      <td>...</td>\n",
       "      <td>862</td>\n",
       "      <td>30000000</td>\n",
       "      <td>21.946943</td>\n",
       "      <td>1995-10-30</td>\n",
       "      <td>373554033</td>\n",
       "      <td>Toy Story</td>\n",
       "      <td>7.7</td>\n",
       "      <td>5415.0</td>\n",
       "      <td>1995</td>\n",
       "      <td>12.451801</td>\n",
       "    </tr>\n",
       "    <tr>\n",
       "      <th>1</th>\n",
       "      <td>Robin Williams</td>\n",
       "      <td>Jonathan Hyde</td>\n",
       "      <td>Kirsten Dunst</td>\n",
       "      <td>Bradley Pierce</td>\n",
       "      <td>Bonnie Hunt</td>\n",
       "      <td>Bebe Neuwirth</td>\n",
       "      <td>David Alan Grier</td>\n",
       "      <td>Patricia Clarkson</td>\n",
       "      <td>Adam Hann-Byrd</td>\n",
       "      <td>Laura Bell Bundy</td>\n",
       "      <td>...</td>\n",
       "      <td>8844</td>\n",
       "      <td>65000000</td>\n",
       "      <td>17.015539</td>\n",
       "      <td>1995-12-15</td>\n",
       "      <td>262797249</td>\n",
       "      <td>Jumanji</td>\n",
       "      <td>6.9</td>\n",
       "      <td>2413.0</td>\n",
       "      <td>1995</td>\n",
       "      <td>4.043035</td>\n",
       "    </tr>\n",
       "    <tr>\n",
       "      <th>2</th>\n",
       "      <td>Walter Matthau</td>\n",
       "      <td>Jack Lemmon</td>\n",
       "      <td>Ann-Margret</td>\n",
       "      <td>Sophia Loren</td>\n",
       "      <td>Daryl Hannah</td>\n",
       "      <td>Burgess Meredith</td>\n",
       "      <td>Kevin Pollak</td>\n",
       "      <td>None</td>\n",
       "      <td>None</td>\n",
       "      <td>None</td>\n",
       "      <td>...</td>\n",
       "      <td>15602</td>\n",
       "      <td>0</td>\n",
       "      <td>11.712900</td>\n",
       "      <td>1995-12-22</td>\n",
       "      <td>0</td>\n",
       "      <td>Grumpier Old Men</td>\n",
       "      <td>6.5</td>\n",
       "      <td>92.0</td>\n",
       "      <td>1995</td>\n",
       "      <td>0.000000</td>\n",
       "    </tr>\n",
       "  </tbody>\n",
       "</table>\n",
       "<p>3 rows × 21 columns</p>\n",
       "</div>"
      ],
      "text/plain": [
       "       cas_actor1     cas_actor2     cas_actor3      cas_actor4  \\\n",
       "0       Tom Hanks      Tim Allen    Don Rickles      Jim Varney   \n",
       "1  Robin Williams  Jonathan Hyde  Kirsten Dunst  Bradley Pierce   \n",
       "2  Walter Matthau    Jack Lemmon    Ann-Margret    Sophia Loren   \n",
       "\n",
       "      cas_actor5         cas_actor6        cas_actor7         cas_actor8  \\\n",
       "0  Wallace Shawn  John Ratzenberger       Annie Potts        John Morris   \n",
       "1    Bonnie Hunt      Bebe Neuwirth  David Alan Grier  Patricia Clarkson   \n",
       "2   Daryl Hannah   Burgess Meredith      Kevin Pollak               None   \n",
       "\n",
       "        cas_actor9       cas_actor10  ...     id    budget  popularity  \\\n",
       "0  Erik von Detten    Laurie Metcalf  ...    862  30000000   21.946943   \n",
       "1   Adam Hann-Byrd  Laura Bell Bundy  ...   8844  65000000   17.015539   \n",
       "2             None              None  ...  15602         0   11.712900   \n",
       "\n",
       "   release_date    revenue             title vote_average  vote_count  \\\n",
       "0    1995-10-30  373554033         Toy Story          7.7      5415.0   \n",
       "1    1995-12-15  262797249           Jumanji          6.9      2413.0   \n",
       "2    1995-12-22          0  Grumpier Old Men          6.5        92.0   \n",
       "\n",
       "   release_year     return  \n",
       "0          1995  12.451801  \n",
       "1          1995   4.043035  \n",
       "2          1995   0.000000  \n",
       "\n",
       "[3 rows x 21 columns]"
      ]
     },
     "execution_count": 136,
     "metadata": {},
     "output_type": "execute_result"
    }
   ],
   "source": [
    "df_union.head(3)"
   ]
  },
  {
   "cell_type": "code",
   "execution_count": 131,
   "metadata": {},
   "outputs": [
    {
     "data": {
      "text/plain": [
       "30000000"
      ]
     },
     "execution_count": 131,
     "metadata": {},
     "output_type": "execute_result"
    }
   ],
   "source": [
    "df_union['budget'][0]"
   ]
  },
  {
   "cell_type": "code",
   "execution_count": 137,
   "metadata": {},
   "outputs": [
    {
     "data": {
      "text/plain": [
       "'Michael Mann'"
      ]
     },
     "execution_count": 137,
     "metadata": {},
     "output_type": "execute_result"
    }
   ],
   "source": [
    "df_union['crew_Director'][5]"
   ]
  },
  {
   "cell_type": "code",
   "execution_count": 133,
   "metadata": {},
   "outputs": [],
   "source": [
    "datos = []\n",
    "Retorno = 0\n",
    "if df_union is not None:\n",
    "   for i in range(0, len(df_union)):\n",
    "        if df_union['crew_Director'][i] == 'John Lasseter':\n",
    "            datos.append({\"Titulo\": str(df_union['title'][i]), \"Fecha de lanzamiento\": str(df_union['release_date'][i]), \"Costo\": str(df_union['budget'][i]), \"Ganancia\": str(df_union['revenue'][i] - df_union['budget'][i])})\n",
    "            Retorno += df_union['return'][i]\n",
    "   datos.append({\"Exito segun retorno\": str(Retorno)})\n"
   ]
  },
  {
   "cell_type": "code",
   "execution_count": 130,
   "metadata": {},
   "outputs": [
    {
     "data": {
      "text/plain": [
       "21.00525680277778"
      ]
     },
     "execution_count": 130,
     "metadata": {},
     "output_type": "execute_result"
    }
   ],
   "source": [
    "Retorno"
   ]
  },
  {
   "cell_type": "code",
   "execution_count": 135,
   "metadata": {},
   "outputs": [
    {
     "data": {
      "text/plain": [
       "list"
      ]
     },
     "execution_count": 135,
     "metadata": {},
     "output_type": "execute_result"
    }
   ],
   "source": [
    "type(datos)"
   ]
  }
 ],
 "metadata": {
  "kernelspec": {
   "display_name": "Python 3",
   "language": "python",
   "name": "python3"
  },
  "language_info": {
   "codemirror_mode": {
    "name": "ipython",
    "version": 3
   },
   "file_extension": ".py",
   "mimetype": "text/x-python",
   "name": "python",
   "nbconvert_exporter": "python",
   "pygments_lexer": "ipython3",
   "version": "3.10.11"
  }
 },
 "nbformat": 4,
 "nbformat_minor": 2
}
